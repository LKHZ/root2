{
 "cells": [
  {
   "cell_type": "code",
   "execution_count": 1,
   "id": "61d99e0f",
   "metadata": {},
   "outputs": [],
   "source": [
    "import pandas as pd\n",
    "from astropy.io import fits\n",
    "from astropy.wcs import WCS\n",
    "from copy import deepcopy\n",
    "import matplotlib.pyplot as plt\n",
    "import numpy as np\n",
    "import os"
   ]
  },
  {
   "cell_type": "code",
   "execution_count": 22,
   "id": "c0b0fcc4",
   "metadata": {},
   "outputs": [
    {
     "data": {
      "text/plain": [
       "['field7_label.txt',\n",
       " 'field5_label.txt',\n",
       " 'field10_label.txt',\n",
       " 'field4_label.txt',\n",
       " 'field2_label.txt',\n",
       " 'field1_label.txt',\n",
       " 'field6_label.txt',\n",
       " 'field8_label.txt',\n",
       " 'field9_label.txt',\n",
       " 'field3_label.txt']"
      ]
     },
     "execution_count": 22,
     "metadata": {},
     "output_type": "execute_result"
    }
   ],
   "source": [
    "inputpath = \"/home/dell460/slc/sdd_01/SKAData/CIP_random2/data/10field\"\n",
    "catlog = os.listdir(inputpath)\n",
    "catlog = [catl for catl in catlog if catl.endswith('.txt')]\n",
    "catlog"
   ]
  },
  {
   "cell_type": "code",
   "execution_count": 47,
   "id": "2c528ce1",
   "metadata": {},
   "outputs": [],
   "source": [
    "all_label_I = []\n",
    "b = np.empty(shape=(0,3))\n",
    "num = 0"
   ]
  },
  {
   "cell_type": "code",
   "execution_count": 48,
   "id": "b5562756",
   "metadata": {},
   "outputs": [
    {
     "name": "stdout",
     "output_type": "stream",
     "text": [
      "9905\n"
     ]
    }
   ],
   "source": [
    "for file in catlog:\n",
    "    label = np.loadtxt(inputpath + '/' + file,dtype=float)\n",
    "    num += label.shape[0]\n",
    "    #all_label_I.append(label)\n",
    "    #b =np.vstack((label,b))\n",
    "print(num)"
   ]
  },
  {
   "cell_type": "code",
   "execution_count": 41,
   "id": "084bcc5f",
   "metadata": {},
   "outputs": [
    {
     "data": {
      "text/plain": [
       "array([[5.29713811e+03, 2.24051266e+03, 1.04567027e-04],\n",
       "       [7.33240772e+03, 3.82201722e+03, 1.24744303e-04],\n",
       "       [3.57633354e+03, 8.05680724e+03, 1.09328066e-04],\n",
       "       ...,\n",
       "       [2.69154449e+03, 9.84998377e+02, 2.97542792e-04],\n",
       "       [1.17361032e+03, 2.98023651e+03, 1.00223937e-04],\n",
       "       [1.81600344e+03, 7.95935687e+03, 1.79646135e-04]])"
      ]
     },
     "execution_count": 41,
     "metadata": {},
     "output_type": "execute_result"
    }
   ],
   "source": [
    "b"
   ]
  },
  {
   "cell_type": "code",
   "execution_count": 42,
   "id": "12550cc7",
   "metadata": {},
   "outputs": [],
   "source": [
    "np.savetxt('/home/dell460/slc/sdd_01/SKAData/CIP_random2/data/all_label_I.txt',b)"
   ]
  }
 ],
 "metadata": {
  "kernelspec": {
   "display_name": "Python 3 (ipykernel)",
   "language": "python",
   "name": "python3"
  },
  "language_info": {
   "codemirror_mode": {
    "name": "ipython",
    "version": 3
   },
   "file_extension": ".py",
   "mimetype": "text/x-python",
   "name": "python",
   "nbconvert_exporter": "python",
   "pygments_lexer": "ipython3",
   "version": "3.10.4"
  }
 },
 "nbformat": 4,
 "nbformat_minor": 5
}
